{
 "cells": [
  {
   "cell_type": "markdown",
   "metadata": {
    "colab_type": "text",
    "id": "Qaw6CoC4qUb5"
   },
   "source": [
    "![DoctorBert](https://snag.gy/oF84Gk.jpg)\n",
    "\n",
    "\n",
    "![DoctorBert](https://i.ytimg.com/vi/nPemP-Q0Xn8/hqdefault.jpg)\n",
    "\n",
    "This is a Colab Demo of our DocProduct Tensorflow 2.0 Hackathon Project\n",
    "\n",
    "Project details can be seen on our Github repo\n",
    "https://github.com/Santosh-Gupta/DocProduct\n",
    "\n",
    "and our Devpost page\n",
    "https://devpost.com/software/nlp-doctor\n",
    "\n",
    "In order to fit the computational limits of Google Colab, we had to reduce the amount of searchable Q&A datapoints from ~700,000 to ~200,000.\n",
    "We also converted our search embeddings from float32 to float16, although this does not seem to dimish the quality of search (*but that's a whole other product to explore*)\n",
    "\n",
    "Instructions:\n",
    "\n",
    "-Run the first cell to install TF2.0 and FAISS\n",
    "\n",
    "-Run the second cell to download the models and data\n",
    "\n",
    "-Run the third cell to load the weights and data\n",
    "\n",
    "-Input your question and search parameters into the fourth cell to play around with our model results\n",
    "\n",
    "\n"
   ]
  },
  {
   "cell_type": "code",
   "execution_count": 5,
   "metadata": {
    "cellView": "both",
    "colab": {
     "base_uri": "https://localhost:8080/",
     "height": 1000
    },
    "colab_type": "code",
    "id": "jmMqTnR0kIBL",
    "outputId": "2e70494f-636e-4858-fb75-d4a27fa0cd7c"
   },
   "outputs": [
    {
     "name": "stderr",
     "output_type": "stream",
     "text": [
      "--2019-11-25 14:03:39--  https://anaconda.org/pytorch/faiss-cpu/1.2.1/download/linux-64/faiss-cpu-1.2.1-py36_cuda9.0.176_1.tar.bz2\n",
      "Resolving anaconda.org (anaconda.org)... 104.17.92.24, 104.17.93.24\n",
      "Connecting to anaconda.org (anaconda.org)|104.17.92.24|:443... connected.\n",
      "ERROR: cannot verify anaconda.org's certificate, issued by 'CN=CloudFlare Inc ECC CA-2,O=CloudFlare\\\\, Inc.,L=San Francisco,ST=CA,C=US':\n",
      "  Unable to locally verify the issuer's authority.\n",
      "To connect to anaconda.org insecurely, use `--no-check-certificate'.\n",
      "tar: Error opening archive: Failed to open 'faiss-cpu-1.2.1-py36_cuda9.0.176_1.tar.bz2'\n",
      "cp: cannot stat 'lib/python3.6/site-packages/*': No such file or directory\n"
     ]
    },
    {
     "name": "stdout",
     "output_type": "stream",
     "text": [
      "Requirement already satisfied: mkl in c:\\users\\imroy\\anaconda3\\lib\\site-packages (2019.0)\n",
      "Requirement already satisfied: intel-openmp in c:\\users\\imroy\\anaconda3\\lib\\site-packages (from mkl) (2019.0)\n",
      "Requirement already satisfied: keras in c:\\users\\imroy\\anaconda3\\lib\\site-packages (2.2.4)\n",
      "Requirement already satisfied: keras-applications>=1.0.6 in c:\\users\\imroy\\anaconda3\\lib\\site-packages (from keras) (1.0.7)\n",
      "Requirement already satisfied: pyyaml in c:\\users\\imroy\\anaconda3\\lib\\site-packages (from keras) (3.12)\n",
      "Requirement already satisfied: numpy>=1.9.1 in c:\\users\\imroy\\anaconda3\\lib\\site-packages (from keras) (1.14.5)\n",
      "Requirement already satisfied: scipy>=0.14 in c:\\users\\imroy\\anaconda3\\lib\\site-packages (from keras) (1.2.2)\n",
      "Requirement already satisfied: h5py in c:\\users\\imroy\\anaconda3\\lib\\site-packages (from keras) (2.7.0)\n",
      "Requirement already satisfied: keras-preprocessing>=1.0.5 in c:\\users\\imroy\\anaconda3\\lib\\site-packages (from keras) (1.0.9)\n",
      "Requirement already satisfied: six>=1.9.0 in c:\\users\\imroy\\anaconda3\\lib\\site-packages (from keras) (1.11.0)\n",
      "Requirement already satisfied: tensorflow-gpu==2.0.0-alpha0 in c:\\users\\imroy\\anaconda3\\lib\\site-packages (2.0.0a0)\n",
      "Requirement already satisfied: protobuf>=3.6.1 in c:\\users\\imroy\\anaconda3\\lib\\site-packages (from tensorflow-gpu==2.0.0-alpha0) (3.7.1)\n",
      "Requirement already satisfied: numpy<2.0,>=1.14.5 in c:\\users\\imroy\\anaconda3\\lib\\site-packages (from tensorflow-gpu==2.0.0-alpha0) (1.14.5)\n",
      "Requirement already satisfied: grpcio>=1.8.6 in c:\\users\\imroy\\anaconda3\\lib\\site-packages (from tensorflow-gpu==2.0.0-alpha0) (1.20.1)\n",
      "Requirement already satisfied: wheel>=0.26 in c:\\users\\imroy\\anaconda3\\lib\\site-packages (from tensorflow-gpu==2.0.0-alpha0) (0.29.0)\n",
      "Requirement already satisfied: astor>=0.6.0 in c:\\users\\imroy\\anaconda3\\lib\\site-packages (from tensorflow-gpu==2.0.0-alpha0) (0.7.1)\n",
      "Requirement already satisfied: keras-applications>=1.0.6 in c:\\users\\imroy\\anaconda3\\lib\\site-packages (from tensorflow-gpu==2.0.0-alpha0) (1.0.7)\n",
      "Requirement already satisfied: absl-py>=0.7.0 in c:\\users\\imroy\\anaconda3\\lib\\site-packages (from tensorflow-gpu==2.0.0-alpha0) (0.7.1)\n",
      "Requirement already satisfied: tf-estimator-nightly<1.14.0.dev2019030116,>=1.14.0.dev2019030115 in c:\\users\\imroy\\anaconda3\\lib\\site-packages (from tensorflow-gpu==2.0.0-alpha0) (1.14.0.dev2019030115)\n",
      "Requirement already satisfied: tb-nightly<1.14.0a20190302,>=1.14.0a20190301 in c:\\users\\imroy\\anaconda3\\lib\\site-packages (from tensorflow-gpu==2.0.0-alpha0) (1.14.0a20190301)\n",
      "Requirement already satisfied: gast>=0.2.0 in c:\\users\\imroy\\anaconda3\\lib\\site-packages (from tensorflow-gpu==2.0.0-alpha0) (0.2.2)\n",
      "Requirement already satisfied: termcolor>=1.1.0 in c:\\users\\imroy\\anaconda3\\lib\\site-packages (from tensorflow-gpu==2.0.0-alpha0) (1.1.0)\n",
      "Requirement already satisfied: six>=1.10.0 in c:\\users\\imroy\\anaconda3\\lib\\site-packages (from tensorflow-gpu==2.0.0-alpha0) (1.11.0)\n",
      "Requirement already satisfied: google-pasta>=0.1.2 in c:\\users\\imroy\\anaconda3\\lib\\site-packages (from tensorflow-gpu==2.0.0-alpha0) (0.1.8)\n",
      "Requirement already satisfied: keras-preprocessing>=1.0.5 in c:\\users\\imroy\\anaconda3\\lib\\site-packages (from tensorflow-gpu==2.0.0-alpha0) (1.0.9)\n",
      "Requirement already satisfied: setuptools in c:\\users\\imroy\\anaconda3\\lib\\site-packages (from protobuf>=3.6.1->tensorflow-gpu==2.0.0-alpha0) (41.0.1)\n",
      "Requirement already satisfied: h5py in c:\\users\\imroy\\anaconda3\\lib\\site-packages (from keras-applications>=1.0.6->tensorflow-gpu==2.0.0-alpha0) (2.7.0)\n",
      "Requirement already satisfied: werkzeug>=0.11.15 in c:\\users\\imroy\\anaconda3\\lib\\site-packages (from tb-nightly<1.14.0a20190302,>=1.14.0a20190301->tensorflow-gpu==2.0.0-alpha0) (0.16.0)\n",
      "Requirement already satisfied: markdown>=2.6.8 in c:\\users\\imroy\\anaconda3\\lib\\site-packages (from tb-nightly<1.14.0a20190302,>=1.14.0a20190301->tensorflow-gpu==2.0.0-alpha0) (3.1)\n",
      "Collecting tensorflow-cpu\n",
      "  Downloading https://files.pythonhosted.org/packages/c8/6e/c82a44f33cdc87448e0ff78280b82da409715fb663fb6cfb6d8f846412ba/tensorflow_cpu-1.15.0-cp36-cp36m-win_amd64.whl (56.5MB)\n",
      "Collecting tensorboard<1.16.0,>=1.15.0\n",
      "  Downloading https://files.pythonhosted.org/packages/1e/e9/d3d747a97f7188f48aa5eda486907f3b345cd409f0a0850468ba867db246/tensorboard-1.15.0-py3-none-any.whl (3.8MB)\n",
      "Requirement already satisfied: keras-preprocessing>=1.0.5 in c:\\users\\imroy\\anaconda3\\lib\\site-packages (from tensorflow-cpu) (1.0.9)\n",
      "Requirement already satisfied: google-pasta>=0.1.6 in c:\\users\\imroy\\anaconda3\\lib\\site-packages (from tensorflow-cpu) (0.1.8)\n",
      "Requirement already satisfied: protobuf>=3.6.1 in c:\\users\\imroy\\anaconda3\\lib\\site-packages (from tensorflow-cpu) (3.7.1)\n",
      "Collecting tensorflow-cpu-estimator==1.15.1\n",
      "  Downloading https://files.pythonhosted.org/packages/47/6c/9877788dc10b6b791916f0842a38cf19b66da6834df3c25b2769d60b0782/tensorflow_cpu_estimator-1.15.1-py2.py3-none-any.whl (520kB)\n",
      "Requirement already satisfied: termcolor>=1.1.0 in c:\\users\\imroy\\anaconda3\\lib\\site-packages (from tensorflow-cpu) (1.1.0)\n",
      "Requirement already satisfied: six>=1.10.0 in c:\\users\\imroy\\anaconda3\\lib\\site-packages (from tensorflow-cpu) (1.11.0)\n",
      "Collecting numpy<2.0,>=1.16.0\n",
      "  Downloading https://files.pythonhosted.org/packages/b0/ee/5ff445dd43b9820e5494d21240e689d3b7cb52bc93f4f164eba84206cd0d/numpy-1.17.4-cp36-cp36m-win_amd64.whl (12.7MB)\n",
      "Requirement already satisfied: gast==0.2.2 in c:\\users\\imroy\\anaconda3\\lib\\site-packages (from tensorflow-cpu) (0.2.2)\n",
      "Collecting opt-einsum>=2.3.2\n",
      "  Downloading https://files.pythonhosted.org/packages/b8/83/755bd5324777875e9dff19c2e59daec837d0378c09196634524a3d7269ac/opt_einsum-3.1.0.tar.gz (69kB)\n",
      "Collecting wrapt>=1.11.1\n",
      "  Downloading https://files.pythonhosted.org/packages/23/84/323c2415280bc4fc880ac5050dddfb3c8062c2552b34c2e512eb4aa68f79/wrapt-1.11.2.tar.gz\n",
      "Requirement already satisfied: wheel>=0.26 in c:\\users\\imroy\\anaconda3\\lib\\site-packages (from tensorflow-cpu) (0.29.0)\n",
      "Requirement already satisfied: astor>=0.6.0 in c:\\users\\imroy\\anaconda3\\lib\\site-packages (from tensorflow-cpu) (0.7.1)\n",
      "Requirement already satisfied: absl-py>=0.7.0 in c:\\users\\imroy\\anaconda3\\lib\\site-packages (from tensorflow-cpu) (0.7.1)\n",
      "Requirement already satisfied: grpcio>=1.8.6 in c:\\users\\imroy\\anaconda3\\lib\\site-packages (from tensorflow-cpu) (1.20.1)\n",
      "Collecting keras-applications>=1.0.8\n",
      "  Downloading https://files.pythonhosted.org/packages/71/e3/19762fdfc62877ae9102edf6342d71b28fbfd9dea3d2f96a882ce099b03f/Keras_Applications-1.0.8-py3-none-any.whl (50kB)\n",
      "Requirement already satisfied: setuptools>=41.0.0 in c:\\users\\imroy\\anaconda3\\lib\\site-packages (from tensorboard<1.16.0,>=1.15.0->tensorflow-cpu) (41.0.1)\n",
      "Requirement already satisfied: markdown>=2.6.8 in c:\\users\\imroy\\anaconda3\\lib\\site-packages (from tensorboard<1.16.0,>=1.15.0->tensorflow-cpu) (3.1)\n",
      "Requirement already satisfied: werkzeug>=0.11.15 in c:\\users\\imroy\\anaconda3\\lib\\site-packages (from tensorboard<1.16.0,>=1.15.0->tensorflow-cpu) (0.16.0)\n",
      "Requirement already satisfied: h5py in c:\\users\\imroy\\anaconda3\\lib\\site-packages (from keras-applications>=1.0.8->tensorflow-cpu) (2.7.0)\n",
      "Building wheels for collected packages: opt-einsum, wrapt\n",
      "  Building wheel for opt-einsum (setup.py): started\n",
      "  Building wheel for opt-einsum (setup.py): finished with status 'done'\n",
      "  Created wheel for opt-einsum: filename=opt_einsum-3.1.0-cp36-none-any.whl size=63926 sha256=749b4581ffe39ba89a86601c1ce479cbeb27747e16d5656cac0f4a12528bea30\n",
      "  Stored in directory: C:\\Users\\imroy\\AppData\\Local\\pip\\Cache\\wheels\\2c\\b1\\94\\43d03e130b929aae7ba3f8d15cbd7bc0d1cb5bb38a5c721833\n",
      "  Building wheel for wrapt (setup.py): started\n",
      "  Building wheel for wrapt (setup.py): finished with status 'done'\n",
      "  Created wheel for wrapt: filename=wrapt-1.11.2-cp36-none-any.whl size=21432 sha256=3c5d8e618cc40c847aa1c886372b84a5e8ca9aab8dbfcbb28269c8874533ea15\n",
      "  Stored in directory: C:\\Users\\imroy\\AppData\\Local\\pip\\Cache\\wheels\\d7\\de\\2e\\efa132238792efb6459a96e85916ef8597fcb3d2ae51590dfd\n",
      "Successfully built opt-einsum wrapt\n",
      "Installing collected packages: numpy, tensorboard, tensorflow-cpu-estimator, opt-einsum, wrapt, keras-applications, tensorflow-cpu\n",
      "  Found existing installation: numpy 1.14.5\n",
      "    Uninstalling numpy-1.14.5:\n",
      "      Successfully uninstalled numpy-1.14.5\n"
     ]
    },
    {
     "name": "stderr",
     "output_type": "stream",
     "text": [
      "ERROR: tensorflow 1.13.1 has requirement tensorboard<1.14.0,>=1.13.0, but you'll have tensorboard 1.15.0 which is incompatible.\n",
      "ERROR: Could not install packages due to an EnvironmentError: [WinError 5] Access is denied: 'c:\\\\users\\\\imroy\\\\anaconda3\\\\lib\\\\site-packages\\\\~~mpy\\\\.libs\\\\libopenblas.BNVRK7633HSX7YVO2TADGR4A5KEKXJAW.gfortran-win_amd64.dll'\n",
      "Consider using the `--user` option or check the permissions.\n",
      "\n"
     ]
    },
    {
     "ename": "ImportError",
     "evalue": "Traceback (most recent call last):\n  File \"C:\\Users\\imroy\\Anaconda3\\lib\\site-packages\\tensorflow\\python\\pywrap_tensorflow.py\", line 58, in <module>\n    from tensorflow.python.pywrap_tensorflow_internal import *\n  File \"C:\\Users\\imroy\\Anaconda3\\lib\\site-packages\\tensorflow\\python\\pywrap_tensorflow_internal.py\", line 28, in <module>\n    _pywrap_tensorflow_internal = swig_import_helper()\n  File \"C:\\Users\\imroy\\Anaconda3\\lib\\site-packages\\tensorflow\\python\\pywrap_tensorflow_internal.py\", line 24, in swig_import_helper\n    _mod = imp.load_module('_pywrap_tensorflow_internal', fp, pathname, description)\n  File \"C:\\Users\\imroy\\Anaconda3\\lib\\imp.py\", line 243, in load_module\n    return load_dynamic(name, filename, file)\n  File \"C:\\Users\\imroy\\Anaconda3\\lib\\imp.py\", line 343, in load_dynamic\n    return _load(spec)\nImportError: DLL load failed: The specified module could not be found.\n\n\nFailed to load the native TensorFlow runtime.\n\nSee https://www.tensorflow.org/install/errors\n\nfor some common reasons and solutions.  Include the entire stack trace\nabove this error message when asking for help.",
     "output_type": "error",
     "traceback": [
      "\u001b[1;31m---------------------------------------------------------------------------\u001b[0m",
      "\u001b[1;31mImportError\u001b[0m                               Traceback (most recent call last)",
      "\u001b[1;32m~\\Anaconda3\\lib\\site-packages\\tensorflow\\python\\pywrap_tensorflow.py\u001b[0m in \u001b[0;36m<module>\u001b[1;34m()\u001b[0m\n\u001b[0;32m     57\u001b[0m \u001b[1;33m\u001b[0m\u001b[0m\n\u001b[1;32m---> 58\u001b[1;33m   \u001b[1;32mfrom\u001b[0m \u001b[0mtensorflow\u001b[0m\u001b[1;33m.\u001b[0m\u001b[0mpython\u001b[0m\u001b[1;33m.\u001b[0m\u001b[0mpywrap_tensorflow_internal\u001b[0m \u001b[1;32mimport\u001b[0m \u001b[1;33m*\u001b[0m\u001b[1;33m\u001b[0m\u001b[0m\n\u001b[0m\u001b[0;32m     59\u001b[0m   \u001b[1;32mfrom\u001b[0m \u001b[0mtensorflow\u001b[0m\u001b[1;33m.\u001b[0m\u001b[0mpython\u001b[0m\u001b[1;33m.\u001b[0m\u001b[0mpywrap_tensorflow_internal\u001b[0m \u001b[1;32mimport\u001b[0m \u001b[0m__version__\u001b[0m\u001b[1;33m\u001b[0m\u001b[0m\n",
      "\u001b[1;32m~\\Anaconda3\\lib\\site-packages\\tensorflow\\python\\pywrap_tensorflow_internal.py\u001b[0m in \u001b[0;36m<module>\u001b[1;34m()\u001b[0m\n\u001b[0;32m     27\u001b[0m             \u001b[1;32mreturn\u001b[0m \u001b[0m_mod\u001b[0m\u001b[1;33m\u001b[0m\u001b[0m\n\u001b[1;32m---> 28\u001b[1;33m     \u001b[0m_pywrap_tensorflow_internal\u001b[0m \u001b[1;33m=\u001b[0m \u001b[0mswig_import_helper\u001b[0m\u001b[1;33m(\u001b[0m\u001b[1;33m)\u001b[0m\u001b[1;33m\u001b[0m\u001b[0m\n\u001b[0m\u001b[0;32m     29\u001b[0m     \u001b[1;32mdel\u001b[0m \u001b[0mswig_import_helper\u001b[0m\u001b[1;33m\u001b[0m\u001b[0m\n",
      "\u001b[1;32m~\\Anaconda3\\lib\\site-packages\\tensorflow\\python\\pywrap_tensorflow_internal.py\u001b[0m in \u001b[0;36mswig_import_helper\u001b[1;34m()\u001b[0m\n\u001b[0;32m     23\u001b[0m             \u001b[1;32mtry\u001b[0m\u001b[1;33m:\u001b[0m\u001b[1;33m\u001b[0m\u001b[0m\n\u001b[1;32m---> 24\u001b[1;33m                 \u001b[0m_mod\u001b[0m \u001b[1;33m=\u001b[0m \u001b[0mimp\u001b[0m\u001b[1;33m.\u001b[0m\u001b[0mload_module\u001b[0m\u001b[1;33m(\u001b[0m\u001b[1;34m'_pywrap_tensorflow_internal'\u001b[0m\u001b[1;33m,\u001b[0m \u001b[0mfp\u001b[0m\u001b[1;33m,\u001b[0m \u001b[0mpathname\u001b[0m\u001b[1;33m,\u001b[0m \u001b[0mdescription\u001b[0m\u001b[1;33m)\u001b[0m\u001b[1;33m\u001b[0m\u001b[0m\n\u001b[0m\u001b[0;32m     25\u001b[0m             \u001b[1;32mfinally\u001b[0m\u001b[1;33m:\u001b[0m\u001b[1;33m\u001b[0m\u001b[0m\n",
      "\u001b[1;32m~\\Anaconda3\\lib\\imp.py\u001b[0m in \u001b[0;36mload_module\u001b[1;34m(name, file, filename, details)\u001b[0m\n\u001b[0;32m    242\u001b[0m         \u001b[1;32melse\u001b[0m\u001b[1;33m:\u001b[0m\u001b[1;33m\u001b[0m\u001b[0m\n\u001b[1;32m--> 243\u001b[1;33m             \u001b[1;32mreturn\u001b[0m \u001b[0mload_dynamic\u001b[0m\u001b[1;33m(\u001b[0m\u001b[0mname\u001b[0m\u001b[1;33m,\u001b[0m \u001b[0mfilename\u001b[0m\u001b[1;33m,\u001b[0m \u001b[0mfile\u001b[0m\u001b[1;33m)\u001b[0m\u001b[1;33m\u001b[0m\u001b[0m\n\u001b[0m\u001b[0;32m    244\u001b[0m     \u001b[1;32melif\u001b[0m \u001b[0mtype_\u001b[0m \u001b[1;33m==\u001b[0m \u001b[0mPKG_DIRECTORY\u001b[0m\u001b[1;33m:\u001b[0m\u001b[1;33m\u001b[0m\u001b[0m\n",
      "\u001b[1;32m~\\Anaconda3\\lib\\imp.py\u001b[0m in \u001b[0;36mload_dynamic\u001b[1;34m(name, path, file)\u001b[0m\n\u001b[0;32m    342\u001b[0m             name=name, loader=loader, origin=path)\n\u001b[1;32m--> 343\u001b[1;33m         \u001b[1;32mreturn\u001b[0m \u001b[0m_load\u001b[0m\u001b[1;33m(\u001b[0m\u001b[0mspec\u001b[0m\u001b[1;33m)\u001b[0m\u001b[1;33m\u001b[0m\u001b[0m\n\u001b[0m\u001b[0;32m    344\u001b[0m \u001b[1;33m\u001b[0m\u001b[0m\n",
      "\u001b[1;31mImportError\u001b[0m: DLL load failed: The specified module could not be found.",
      "\nDuring handling of the above exception, another exception occurred:\n",
      "\u001b[1;31mImportError\u001b[0m                               Traceback (most recent call last)",
      "\u001b[1;32m<ipython-input-5-c1825bbb08c6>\u001b[0m in \u001b[0;36m<module>\u001b[1;34m()\u001b[0m\n\u001b[0;32m     12\u001b[0m \u001b[0mget_ipython\u001b[0m\u001b[1;33m(\u001b[0m\u001b[1;33m)\u001b[0m\u001b[1;33m.\u001b[0m\u001b[0msystem\u001b[0m\u001b[1;33m(\u001b[0m\u001b[1;34m'pip install tensorflow-gpu==2.0.0-alpha0'\u001b[0m\u001b[1;33m)\u001b[0m\u001b[1;33m\u001b[0m\u001b[0m\n\u001b[0;32m     13\u001b[0m \u001b[0mget_ipython\u001b[0m\u001b[1;33m(\u001b[0m\u001b[1;33m)\u001b[0m\u001b[1;33m.\u001b[0m\u001b[0msystem\u001b[0m\u001b[1;33m(\u001b[0m\u001b[1;34m'pip install tensorflow-cpu'\u001b[0m\u001b[1;33m)\u001b[0m\u001b[1;33m\u001b[0m\u001b[0m\n\u001b[1;32m---> 14\u001b[1;33m \u001b[1;32mimport\u001b[0m \u001b[0mtensorflow\u001b[0m \u001b[1;32mas\u001b[0m \u001b[0mtf\u001b[0m\u001b[1;33m\u001b[0m\u001b[0m\n\u001b[0m\u001b[0;32m     15\u001b[0m \u001b[0mget_ipython\u001b[0m\u001b[1;33m(\u001b[0m\u001b[1;33m)\u001b[0m\u001b[1;33m.\u001b[0m\u001b[0msystem\u001b[0m\u001b[1;33m(\u001b[0m\u001b[1;34m'pip install https://github.com/re-search/DocProduct/archive/v0.2.0_dev.zip'\u001b[0m\u001b[1;33m)\u001b[0m\u001b[1;33m\u001b[0m\u001b[0m\n\u001b[0;32m     16\u001b[0m \u001b[0mget_ipython\u001b[0m\u001b[1;33m(\u001b[0m\u001b[1;33m)\u001b[0m\u001b[1;33m.\u001b[0m\u001b[0msystem\u001b[0m\u001b[1;33m(\u001b[0m\u001b[1;34m'pip install gpt2-estimator'\u001b[0m\u001b[1;33m)\u001b[0m\u001b[1;33m\u001b[0m\u001b[0m\n",
      "\u001b[1;32m~\\Anaconda3\\lib\\site-packages\\tensorflow\\__init__.py\u001b[0m in \u001b[0;36m<module>\u001b[1;34m()\u001b[0m\n\u001b[0;32m     25\u001b[0m \u001b[1;32mimport\u001b[0m \u001b[0msys\u001b[0m \u001b[1;32mas\u001b[0m \u001b[0m_sys\u001b[0m\u001b[1;33m\u001b[0m\u001b[0m\n\u001b[0;32m     26\u001b[0m \u001b[1;33m\u001b[0m\u001b[0m\n\u001b[1;32m---> 27\u001b[1;33m \u001b[1;32mfrom\u001b[0m \u001b[0mtensorflow\u001b[0m\u001b[1;33m.\u001b[0m\u001b[0m_api\u001b[0m\u001b[1;33m.\u001b[0m\u001b[0mv2\u001b[0m \u001b[1;32mimport\u001b[0m \u001b[0maudio\u001b[0m\u001b[1;33m\u001b[0m\u001b[0m\n\u001b[0m\u001b[0;32m     28\u001b[0m \u001b[1;32mfrom\u001b[0m \u001b[0mtensorflow\u001b[0m\u001b[1;33m.\u001b[0m\u001b[0m_api\u001b[0m\u001b[1;33m.\u001b[0m\u001b[0mv2\u001b[0m \u001b[1;32mimport\u001b[0m \u001b[0mautograph\u001b[0m\u001b[1;33m\u001b[0m\u001b[0m\n\u001b[0;32m     29\u001b[0m \u001b[1;32mfrom\u001b[0m \u001b[0mtensorflow\u001b[0m\u001b[1;33m.\u001b[0m\u001b[0m_api\u001b[0m\u001b[1;33m.\u001b[0m\u001b[0mv2\u001b[0m \u001b[1;32mimport\u001b[0m \u001b[0mbitwise\u001b[0m\u001b[1;33m\u001b[0m\u001b[0m\n",
      "\u001b[1;32m~\\Anaconda3\\lib\\site-packages\\tensorflow\\_api\\v2\\audio\\__init__.py\u001b[0m in \u001b[0;36m<module>\u001b[1;34m()\u001b[0m\n\u001b[0;32m      6\u001b[0m \u001b[1;32mfrom\u001b[0m \u001b[0m__future__\u001b[0m \u001b[1;32mimport\u001b[0m \u001b[0mprint_function\u001b[0m \u001b[1;32mas\u001b[0m \u001b[0m_print_function\u001b[0m\u001b[1;33m\u001b[0m\u001b[0m\n\u001b[0;32m      7\u001b[0m \u001b[1;33m\u001b[0m\u001b[0m\n\u001b[1;32m----> 8\u001b[1;33m \u001b[1;32mfrom\u001b[0m \u001b[0mtensorflow\u001b[0m\u001b[1;33m.\u001b[0m\u001b[0mpython\u001b[0m\u001b[1;33m.\u001b[0m\u001b[0mops\u001b[0m\u001b[1;33m.\u001b[0m\u001b[0mgen_audio_ops\u001b[0m \u001b[1;32mimport\u001b[0m \u001b[0mdecode_wav\u001b[0m\u001b[1;33m\u001b[0m\u001b[0m\n\u001b[0m\u001b[0;32m      9\u001b[0m \u001b[1;32mfrom\u001b[0m \u001b[0mtensorflow\u001b[0m\u001b[1;33m.\u001b[0m\u001b[0mpython\u001b[0m\u001b[1;33m.\u001b[0m\u001b[0mops\u001b[0m\u001b[1;33m.\u001b[0m\u001b[0mgen_audio_ops\u001b[0m \u001b[1;32mimport\u001b[0m \u001b[0mencode_wav\u001b[0m\u001b[1;33m\u001b[0m\u001b[0m\n\u001b[0;32m     10\u001b[0m \u001b[1;33m\u001b[0m\u001b[0m\n",
      "\u001b[1;32m~\\Anaconda3\\lib\\site-packages\\tensorflow\\python\\__init__.py\u001b[0m in \u001b[0;36m<module>\u001b[1;34m()\u001b[0m\n\u001b[0;32m     47\u001b[0m \u001b[1;32mimport\u001b[0m \u001b[0mnumpy\u001b[0m \u001b[1;32mas\u001b[0m \u001b[0mnp\u001b[0m\u001b[1;33m\u001b[0m\u001b[0m\n\u001b[0;32m     48\u001b[0m \u001b[1;33m\u001b[0m\u001b[0m\n\u001b[1;32m---> 49\u001b[1;33m \u001b[1;32mfrom\u001b[0m \u001b[0mtensorflow\u001b[0m\u001b[1;33m.\u001b[0m\u001b[0mpython\u001b[0m \u001b[1;32mimport\u001b[0m \u001b[0mpywrap_tensorflow\u001b[0m\u001b[1;33m\u001b[0m\u001b[0m\n\u001b[0m\u001b[0;32m     50\u001b[0m \u001b[1;33m\u001b[0m\u001b[0m\n\u001b[0;32m     51\u001b[0m \u001b[1;31m# Protocol buffers\u001b[0m\u001b[1;33m\u001b[0m\u001b[1;33m\u001b[0m\u001b[0m\n",
      "\u001b[1;32m~\\Anaconda3\\lib\\site-packages\\tensorflow\\python\\pywrap_tensorflow.py\u001b[0m in \u001b[0;36m<module>\u001b[1;34m()\u001b[0m\n\u001b[0;32m     72\u001b[0m \u001b[1;32mfor\u001b[0m \u001b[0msome\u001b[0m \u001b[0mcommon\u001b[0m \u001b[0mreasons\u001b[0m \u001b[1;32mand\u001b[0m \u001b[0msolutions\u001b[0m\u001b[1;33m.\u001b[0m  \u001b[0mInclude\u001b[0m \u001b[0mthe\u001b[0m \u001b[0mentire\u001b[0m \u001b[0mstack\u001b[0m \u001b[0mtrace\u001b[0m\u001b[1;33m\u001b[0m\u001b[0m\n\u001b[0;32m     73\u001b[0m above this error message when asking for help.\"\"\" % traceback.format_exc()\n\u001b[1;32m---> 74\u001b[1;33m   \u001b[1;32mraise\u001b[0m \u001b[0mImportError\u001b[0m\u001b[1;33m(\u001b[0m\u001b[0mmsg\u001b[0m\u001b[1;33m)\u001b[0m\u001b[1;33m\u001b[0m\u001b[0m\n\u001b[0m\u001b[0;32m     75\u001b[0m \u001b[1;33m\u001b[0m\u001b[0m\n\u001b[0;32m     76\u001b[0m \u001b[1;31m# pylint: enable=wildcard-import,g-import-not-at-top,unused-import,line-too-long\u001b[0m\u001b[1;33m\u001b[0m\u001b[1;33m\u001b[0m\u001b[0m\n",
      "\u001b[1;31mImportError\u001b[0m: Traceback (most recent call last):\n  File \"C:\\Users\\imroy\\Anaconda3\\lib\\site-packages\\tensorflow\\python\\pywrap_tensorflow.py\", line 58, in <module>\n    from tensorflow.python.pywrap_tensorflow_internal import *\n  File \"C:\\Users\\imroy\\Anaconda3\\lib\\site-packages\\tensorflow\\python\\pywrap_tensorflow_internal.py\", line 28, in <module>\n    _pywrap_tensorflow_internal = swig_import_helper()\n  File \"C:\\Users\\imroy\\Anaconda3\\lib\\site-packages\\tensorflow\\python\\pywrap_tensorflow_internal.py\", line 24, in swig_import_helper\n    _mod = imp.load_module('_pywrap_tensorflow_internal', fp, pathname, description)\n  File \"C:\\Users\\imroy\\Anaconda3\\lib\\imp.py\", line 243, in load_module\n    return load_dynamic(name, filename, file)\n  File \"C:\\Users\\imroy\\Anaconda3\\lib\\imp.py\", line 343, in load_dynamic\n    return _load(spec)\nImportError: DLL load failed: The specified module could not be found.\n\n\nFailed to load the native TensorFlow runtime.\n\nSee https://www.tensorflow.org/install/errors\n\nfor some common reasons and solutions.  Include the entire stack trace\nabove this error message when asking for help."
     ]
    }
   ],
   "source": [
    "#@title Install Faiss, TF 2.0, and our Github. Double Click to see code\n",
    "\n",
    "#To use CPU FAISS use\n",
    "!wget  https://anaconda.org/pytorch/faiss-cpu/1.2.1/download/linux-64/faiss-cpu-1.2.1-py36_cuda9.0.176_1.tar.bz2\n",
    "#To use GPU FAISS use\n",
    "#!wget  https://anaconda.org/pytorch/faiss-gpu/1.2.1/download/linux-64/faiss-gpu-1.2.1-py36_cuda9.0.176_1.tar.bz2\n",
    "!tar xvjf faiss-cpu-1.2.1-py36_cuda9.0.176_1.tar.bz2\n",
    "!cp -r lib/python3.6/site-packages/* /usr/local/lib/python3.6/dist-packages/\n",
    "!pip install mkl\n",
    "\n",
    "!pip install keras\n",
    "!pip install tensorflow-gpu==2.0.0-alpha0\n",
    "!pip install tensorflow-cpu\n",
    "import tensorflow as tf\n",
    "!pip install https://github.com/re-search/DocProduct/archive/v0.2.0_dev.zip\n",
    "!pip install gpt2-estimator\n",
    "!pip install pyarrow\n"
   ]
  },
  {
   "cell_type": "code",
   "execution_count": 0,
   "metadata": {
    "cellView": "both",
    "colab": {},
    "colab_type": "code",
    "collapsed": true,
    "id": "2WSlwhdFC_0K"
   },
   "outputs": [],
   "source": [
    "#@title Downaload all model checkpoints, and question/answer data. Double click to see this code\n",
    "\n",
    "def download_file_from_google_drive(id, destination):\n",
    "    URL = \"https://docs.google.com/uc?export=download\"\n",
    "\n",
    "    session = requests.Session()\n",
    "\n",
    "    response = session.get(URL, params = { 'id' : id }, stream = True)\n",
    "    token = get_confirm_token(response)\n",
    "\n",
    "    if token:\n",
    "        params = { 'id' : id, 'confirm' : token }\n",
    "        response = session.get(URL, params = params, stream = True)\n",
    "\n",
    "    save_response_content(response, destination)    \n",
    "\n",
    "def get_confirm_token(response):\n",
    "    for key, value in response.cookies.items():\n",
    "        if key.startswith('download_warning'):\n",
    "            return value\n",
    "\n",
    "    return None\n",
    "\n",
    "def save_response_content(response, destination):\n",
    "    CHUNK_SIZE = 32768\n",
    "\n",
    "    with open(destination, \"wb\") as f:\n",
    "        for chunk in response.iter_content(CHUNK_SIZE):\n",
    "            if chunk: # filter out keep-alive new chunks\n",
    "                f.write(chunk)\n",
    "                \n",
    "import os\n",
    "import requests\n",
    "\n",
    "import urllib.request\n",
    "\n",
    "# Download the file from `url` and save it locally under `file_name`:\n",
    "urllib.request.urlretrieve('https://github.com/naver/biobert-pretrained/releases/download/v1.0-pubmed-pmc/biobert_v1.0_pubmed_pmc.tar.gz', 'BioBert.tar.gz')\n",
    "\n",
    "if not os.path.exists('BioBertFolder'):\n",
    "    os.makedirs('BioBertFolder')\n",
    "    \n",
    "import tarfile\n",
    "tar = tarfile.open(\"BioBert.tar.gz\")\n",
    "tar.extractall(path='BioBertFolder/')\n",
    "tar.close()\n",
    "\n",
    "file_id = '1uCXv6mQkFfpw5txGnVCsl93Db7t5Z2mp'\n",
    "\n",
    "download_file_from_google_drive(file_id, 'Float16EmbeddingsExpanded5-27-19.pkl')\n",
    "\n",
    "file_id = 'https://onedrive.live.com/download?cid=9DEDF3C1E2D7E77F&resid=9DEDF3C1E2D7E77F%2132792&authkey=AEQ8GtkcDbe3K98'\n",
    "    \n",
    "urllib.request.urlretrieve( file_id, 'DataAndCheckpoint.zip')\n",
    "\n",
    "if not os.path.exists('newFolder'):\n",
    "    os.makedirs('newFolder')\n",
    "\n",
    "import zipfile\n",
    "zip_ref = zipfile.ZipFile('DataAndCheckpoint.zip', 'r')\n",
    "zip_ref.extractall('newFolder')\n",
    "zip_ref.close()"
   ]
  },
  {
   "cell_type": "code",
   "execution_count": 1,
   "metadata": {
    "cellView": "both",
    "colab": {
     "base_uri": "https://localhost:8080/",
     "height": 479
    },
    "colab_type": "code",
    "id": "ztuTHeW4jFiH",
    "outputId": "56d7a536-243d-4e53-c08a-de67cc82398b"
   },
   "outputs": [
    {
     "name": "stderr",
     "output_type": "stream",
     "text": [
      "Failed to load GPU Faiss: No module named 'faiss.swigfaiss_gpu'\n",
      "Faiss falling back to CPU-only.\n",
      "/usr/local/lib/python3.6/dist-packages/tensorflow/python/framework/dtypes.py:523: FutureWarning: Passing (type, 1) or '1type' as a synonym of type is deprecated; in a future version of numpy, it will be understood as (type, (1,)) / '(1,)type'.\n",
      "  _np_qint8 = np.dtype([(\"qint8\", np.int8, 1)])\n",
      "/usr/local/lib/python3.6/dist-packages/tensorflow/python/framework/dtypes.py:524: FutureWarning: Passing (type, 1) or '1type' as a synonym of type is deprecated; in a future version of numpy, it will be understood as (type, (1,)) / '(1,)type'.\n",
      "  _np_quint8 = np.dtype([(\"quint8\", np.uint8, 1)])\n",
      "/usr/local/lib/python3.6/dist-packages/tensorflow/python/framework/dtypes.py:525: FutureWarning: Passing (type, 1) or '1type' as a synonym of type is deprecated; in a future version of numpy, it will be understood as (type, (1,)) / '(1,)type'.\n",
      "  _np_qint16 = np.dtype([(\"qint16\", np.int16, 1)])\n",
      "/usr/local/lib/python3.6/dist-packages/tensorflow/python/framework/dtypes.py:526: FutureWarning: Passing (type, 1) or '1type' as a synonym of type is deprecated; in a future version of numpy, it will be understood as (type, (1,)) / '(1,)type'.\n",
      "  _np_quint16 = np.dtype([(\"quint16\", np.uint16, 1)])\n",
      "/usr/local/lib/python3.6/dist-packages/tensorflow/python/framework/dtypes.py:527: FutureWarning: Passing (type, 1) or '1type' as a synonym of type is deprecated; in a future version of numpy, it will be understood as (type, (1,)) / '(1,)type'.\n",
      "  _np_qint32 = np.dtype([(\"qint32\", np.int32, 1)])\n",
      "/usr/local/lib/python3.6/dist-packages/tensorflow/python/framework/dtypes.py:532: FutureWarning: Passing (type, 1) or '1type' as a synonym of type is deprecated; in a future version of numpy, it will be understood as (type, (1,)) / '(1,)type'.\n",
      "  np_resource = np.dtype([(\"resource\", np.ubyte, 1)])\n",
      "/usr/local/lib/python3.6/dist-packages/tensorboard/compat/tensorflow_stub/dtypes.py:541: FutureWarning: Passing (type, 1) or '1type' as a synonym of type is deprecated; in a future version of numpy, it will be understood as (type, (1,)) / '(1,)type'.\n",
      "  _np_qint8 = np.dtype([(\"qint8\", np.int8, 1)])\n",
      "/usr/local/lib/python3.6/dist-packages/tensorboard/compat/tensorflow_stub/dtypes.py:542: FutureWarning: Passing (type, 1) or '1type' as a synonym of type is deprecated; in a future version of numpy, it will be understood as (type, (1,)) / '(1,)type'.\n",
      "  _np_quint8 = np.dtype([(\"quint8\", np.uint8, 1)])\n",
      "/usr/local/lib/python3.6/dist-packages/tensorboard/compat/tensorflow_stub/dtypes.py:543: FutureWarning: Passing (type, 1) or '1type' as a synonym of type is deprecated; in a future version of numpy, it will be understood as (type, (1,)) / '(1,)type'.\n",
      "  _np_qint16 = np.dtype([(\"qint16\", np.int16, 1)])\n",
      "/usr/local/lib/python3.6/dist-packages/tensorboard/compat/tensorflow_stub/dtypes.py:544: FutureWarning: Passing (type, 1) or '1type' as a synonym of type is deprecated; in a future version of numpy, it will be understood as (type, (1,)) / '(1,)type'.\n",
      "  _np_quint16 = np.dtype([(\"quint16\", np.uint16, 1)])\n",
      "/usr/local/lib/python3.6/dist-packages/tensorboard/compat/tensorflow_stub/dtypes.py:545: FutureWarning: Passing (type, 1) or '1type' as a synonym of type is deprecated; in a future version of numpy, it will be understood as (type, (1,)) / '(1,)type'.\n",
      "  _np_qint32 = np.dtype([(\"qint32\", np.int32, 1)])\n",
      "/usr/local/lib/python3.6/dist-packages/tensorboard/compat/tensorflow_stub/dtypes.py:550: FutureWarning: Passing (type, 1) or '1type' as a synonym of type is deprecated; in a future version of numpy, it will be understood as (type, (1,)) / '(1,)type'.\n",
      "  np_resource = np.dtype([(\"resource\", np.ubyte, 1)])\n"
     ]
    }
   ],
   "source": [
    "#@title Load model weights and Q&A data. Double click to see code\n",
    "\n",
    "from docproduct.predictor import RetreiveQADoc\n",
    "\n",
    "pretrained_path = 'BioBertFolder/biobert_v1.0_pubmed_pmc/'\n",
    "# ffn_weight_file = None\n",
    "bert_ffn_weight_file = 'newFolder/models/bertffn_crossentropy/bertffn'\n",
    "embedding_file = 'Float16EmbeddingsExpanded5-27-19.pkl'\n",
    "\n",
    "doc = RetreiveQADoc(pretrained_path=pretrained_path,\n",
    "ffn_weight_file=None,\n",
    "bert_ffn_weight_file=bert_ffn_weight_file,\n",
    "embedding_file=embedding_file)"
   ]
  },
  {
   "cell_type": "code",
   "execution_count": 7,
   "metadata": {
    "cellView": "both",
    "colab": {
     "base_uri": "https://localhost:8080/",
     "height": 428
    },
    "colab_type": "code",
    "id": "qZ110ZqNfBac",
    "outputId": "c5a60bbb-c59e-4ffd-fa8f-d28db5559e6a"
   },
   "outputs": [
    {
     "name": "stderr",
     "output_type": "stream",
     "text": [
      "1it [00:01,  1.41s/it]"
     ]
    },
    {
     "name": "stdout",
     "output_type": "stream",
     "text": [
      "\n",
      "Result  1\n",
      "If you're not having stabbing pains in your throat, you're fine.  The chance of it causing harm as it travels around is extremely small, because your stomach acid will make it swell and make it soft and squishy (if it's wooden)\n",
      "\n",
      "No need to do anything,lol no problem.  To be honest with you , you probably won't know it passed.  It'll be so squishy and soft that it will probably be inside of a feces.  The number of days varies a lot, but is somewhere between 1-4 days depending on many factors like age and diet, etc\n",
      "\n",
      "Try not to worry. you will be fine \n",
      "\n",
      "Result  2\n",
      "I think it would be very unlikely for you to develop a peptic ulcer in that short amount of time. A more likely explanation is that your recent illness is causing stomach upset/inflammation (gastritis). Especially if you were vomiting a lot, things could be pretty irritated and you might still have some lingering symptoms from the illness. Ibuprofen can also be rough on the stomach.\n",
      "\n",
      "I'd say wait it out for now, try to avoid things that could upset your stomach (spicy foods, ibuprofen, caffeine). Definitely head to the ER if you vomit blood or \"coffee ground\" material, or your stools turn black (unless you're taking pepto, which can turn your poop black).\n",
      "\n",
      "Result  3\n",
      "If you can't keep anything down for more than 24 hours and keep vomiting, you need medical attention. Usually though an upset stomach will calm down if you let it be for some time (let's say an hour). So pause for now, and try again later. Get some water (not too cold), and just take one sip at a time every 5 minutes or so. If you drink a full cup of water right after you've thrown up it will just come right back out. \n",
      "\n",
      "Result  4\n",
      "I agree with the Sandwich Man,If you're having ongoing stomach pain, and your stool is still back, I would go to ER right now, yes.  If things are slowly improving it can probably wait until tomorrow ,Pepto bismol is notorious for causing dark colored stool. That said, your symptoms could be consistent with a gut infection causing a GI bleed and the only way to be sure is with a quick test of your stool. If you came to the ED I would do this test and if it's negative and the rest of your exam is fine I would make sure you can tolerate oral intake and have you follow up with your doctor. ,If your symptoms are generally improving I think it's safe to wait until tomorrow. ,It's a dirty drug, affects lots of receptors but mostly dopamine and nicotinic receptors which are everywhere including the gut. That's part of the reason why nausea is a common side effect especially when people first start taking it. It would be impossible to say with confidence that it had NO effect but if it did have an effect I would expect it to be a minor exacerbation of your nausea. If you can tolerate them it's better to continue taking your prescribed medications rather than risk muddying the picture with the effects of withdrawal, not to mention losing their therapeutic effect. \n",
      "\n",
      "Result  5\n",
      "I doubt you swallowed enough to perforate your stomach. I'd say worst case you caused some gastritis or,potentially, precipitated an ulcer. Would take omeprazole twice a day and schedule follow up with a GI doctor for a scope if it doesn't get better in two weeks. \n",
      "\n"
     ]
    },
    {
     "name": "stderr",
     "output_type": "stream",
     "text": [
      "\n"
     ]
    }
   ],
   "source": [
    "#@title Type in your question (512 word limit) and search search parameters\n",
    "\n",
    "question_text = \"I am having stomach pain I had some street food yesterday\"  #@param {type:\"string\"}\n",
    "\n",
    "search_similarity_by = 'answer'  #@param ['answer', \"question\"]\n",
    "\n",
    "number_results_toReturn=5 #@param {type:\"number\"}\n",
    "\n",
    "answer_only=True #@param [\"False\", \"True\"] {type:\"raw\"}\n",
    "\n",
    "returned_results = doc.predict( question_text ,\n",
    "                  search_by=search_similarity_by, topk=number_results_toReturn, answer_only=answer_only)\n",
    "\n",
    "print('')\n",
    "for jk in range(len(returned_results)):\n",
    "    print(\"Result \", jk+1)\n",
    "    print(returned_results[jk])\n",
    "    print('')\n"
   ]
  },
  {
   "cell_type": "code",
   "execution_count": 4,
   "metadata": {
    "colab": {
     "base_uri": "https://localhost:8080/",
     "height": 34
    },
    "colab_type": "code",
    "id": "KNnVtqN3q1hA",
    "outputId": "9b4daf85-32bc-4273-de02-403ed7310227"
   },
   "outputs": [
    {
     "name": "stdout",
     "output_type": "stream",
     "text": [
      "hello\n"
     ]
    }
   ],
   "source": [
    "print(\"hello\")"
   ]
  }
 ],
 "metadata": {
  "accelerator": "GPU",
  "colab": {
   "collapsed_sections": [],
   "name": "Symptomize_1.ipynb",
   "provenance": []
  },
  "kernelspec": {
   "display_name": "Python 3",
   "language": "python",
   "name": "python3"
  },
  "language_info": {
   "codemirror_mode": {
    "name": "ipython",
    "version": 3
   },
   "file_extension": ".py",
   "mimetype": "text/x-python",
   "name": "python",
   "nbconvert_exporter": "python",
   "pygments_lexer": "ipython3",
   "version": "3.6.3"
  }
 },
 "nbformat": 4,
 "nbformat_minor": 1
}
